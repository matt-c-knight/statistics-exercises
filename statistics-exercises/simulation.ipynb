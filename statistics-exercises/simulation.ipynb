{
 "cells": [
  {
   "cell_type": "markdown",
   "metadata": {},
   "source": [
    "How likely is it that you roll doubles when rolling two dice?\n",
    "\n"
   ]
  },
  {
   "cell_type": "code",
   "execution_count": 4,
   "metadata": {},
   "outputs": [],
   "source": [
    "import numpy as np\n",
    "import pandas as pd\n",
    "\n"
   ]
  },
  {
   "cell_type": "code",
   "execution_count": 5,
   "metadata": {},
   "outputs": [
    {
     "data": {
      "text/plain": [
       "array([[1, 6],\n",
       "       [2, 4],\n",
       "       [3, 6],\n",
       "       ...,\n",
       "       [3, 6],\n",
       "       [3, 5],\n",
       "       [6, 5]])"
      ]
     },
     "execution_count": 5,
     "metadata": {},
     "output_type": "execute_result"
    }
   ],
   "source": [
    "n_trials = nrows = 10_000\n",
    "n_dice = ncols = 2\n",
    "\n",
    "rolls = np.random.choice([1, 2, 3, 4, 5, 6], n_trials * n_dice).reshape(nrows, ncols)\n",
    "rolls"
   ]
  },
  {
   "cell_type": "code",
   "execution_count": 9,
   "metadata": {},
   "outputs": [
    {
     "data": {
      "text/plain": [
       "0.1631"
      ]
     },
     "execution_count": 9,
     "metadata": {},
     "output_type": "execute_result"
    }
   ],
   "source": [
    "(pd.DataFrame(rolls)\n",
    " .apply(lambda x: x[0] == x[1], axis=1)\n",
    " .mean())"
   ]
  },
  {
   "cell_type": "code",
   "execution_count": 11,
   "metadata": {},
   "outputs": [
    {
     "data": {
      "text/plain": [
       "0.1631"
      ]
     },
     "execution_count": 11,
     "metadata": {},
     "output_type": "execute_result"
    }
   ],
   "source": [
    "(pd.DataFrame(rolls)\n",
    " .apply(lambda x: x[0] == x[1], axis=1)\n",
    " .mean())"
   ]
  },
  {
   "cell_type": "markdown",
   "metadata": {},
   "source": [
    "If you flip 8 coins, what is the probability of getting exactly 3 heads? What is the probability of getting more than 3 heads?"
   ]
  },
  {
   "cell_type": "code",
   "execution_count": 12,
   "metadata": {},
   "outputs": [
    {
     "data": {
      "text/plain": [
       "array([['tails', 'tails', 'tails', ..., 'heads', 'heads', 'tails'],\n",
       "       ['tails', 'heads', 'tails', ..., 'heads', 'tails', 'heads'],\n",
       "       ['tails', 'tails', 'tails', ..., 'heads', 'tails', 'heads'],\n",
       "       ...,\n",
       "       ['tails', 'tails', 'heads', ..., 'tails', 'tails', 'tails'],\n",
       "       ['tails', 'heads', 'tails', ..., 'tails', 'heads', 'heads'],\n",
       "       ['tails', 'tails', 'heads', ..., 'tails', 'tails', 'heads']],\n",
       "      dtype='<U5')"
      ]
     },
     "execution_count": 12,
     "metadata": {},
     "output_type": "execute_result"
    }
   ],
   "source": [
    "n_trials = nrows = 10_000\n",
    "n_coins = ncols = 8\n",
    "\n",
    "flips = np.random.choice(['heads','tails'], n_trials * n_coins).reshape(nrows, ncols)\n",
    "flips"
   ]
  },
  {
   "cell_type": "code",
   "execution_count": 21,
   "metadata": {
    "scrolled": true
   },
   "outputs": [
    {
     "data": {
      "text/plain": [
       "array([[False, False, False, ...,  True,  True, False],\n",
       "       [False,  True, False, ...,  True, False,  True],\n",
       "       [False, False, False, ...,  True, False,  True],\n",
       "       ...,\n",
       "       [False, False,  True, ..., False, False, False],\n",
       "       [False,  True, False, ..., False,  True,  True],\n",
       "       [False, False,  True, ..., False, False,  True]])"
      ]
     },
     "execution_count": 21,
     "metadata": {},
     "output_type": "execute_result"
    }
   ],
   "source": [
    "flips == 'heads'"
   ]
  },
  {
   "cell_type": "code",
   "execution_count": 41,
   "metadata": {},
   "outputs": [
    {
     "name": "stdout",
     "output_type": "stream",
     "text": [
      "2186\n"
     ]
    },
    {
     "data": {
      "text/plain": [
       "0.2186"
      ]
     },
     "execution_count": 41,
     "metadata": {},
     "output_type": "execute_result"
    }
   ],
   "source": [
    "\n",
    "total = 0\n",
    "for ele in flips:\n",
    "    sum = 0\n",
    "    for i in ele:\n",
    "        if i == 'heads':\n",
    "            sum += 1\n",
    "    if sum == 3:\n",
    "        total += 1\n",
    "print(total)\n",
    "total / len(flips)"
   ]
  },
  {
   "cell_type": "code",
   "execution_count": 42,
   "metadata": {},
   "outputs": [
    {
     "name": "stdout",
     "output_type": "stream",
     "text": [
      "6378\n"
     ]
    },
    {
     "data": {
      "text/plain": [
       "0.6378"
      ]
     },
     "execution_count": 42,
     "metadata": {},
     "output_type": "execute_result"
    }
   ],
   "source": [
    "total = 0\n",
    "for ele in flips:\n",
    "    sum = 0\n",
    "    for i in ele:\n",
    "        if i == 'heads':\n",
    "            sum += 1\n",
    "    if sum > 3:\n",
    "        total += 1\n",
    "print(total)\n",
    "total / len(flips)"
   ]
  },
  {
   "cell_type": "markdown",
   "metadata": {},
   "source": [
    "There are approximitely 3 web development cohorts for every 1 data science cohort at Codeup. Assuming that Codeup randomly selects an alumni to put on a billboard, what are the odds that the two billboards I drive past both have data science students on them?"
   ]
  },
  {
   "cell_type": "code",
   "execution_count": 43,
   "metadata": {},
   "outputs": [
    {
     "data": {
      "text/plain": [
       "array([['ds', 'webdev'],\n",
       "       ['webdev', 'webdev'],\n",
       "       ['webdev', 'webdev'],\n",
       "       ...,\n",
       "       ['webdev', 'webdev'],\n",
       "       ['webdev', 'webdev'],\n",
       "       ['webdev', 'webdev']], dtype='<U6')"
      ]
     },
     "execution_count": 43,
     "metadata": {},
     "output_type": "execute_result"
    }
   ],
   "source": [
    "n_trials = nrows = 10_000\n",
    "n_billboards = ncols = 2\n",
    "\n",
    "billboards = np.random.choice(['webdev','webdev', 'webdev', 'ds'], n_trials * n_billboards).reshape(nrows, ncols)\n",
    "billboards"
   ]
  },
  {
   "cell_type": "code",
   "execution_count": 45,
   "metadata": {},
   "outputs": [
    {
     "data": {
      "text/plain": [
       "0.0659"
      ]
     },
     "execution_count": 45,
     "metadata": {},
     "output_type": "execute_result"
    }
   ],
   "source": [
    "(pd.DataFrame(billboards)\n",
    " .apply(lambda x: x[0] == 'ds' and x[1] == 'ds', axis=1)\n",
    " .mean())"
   ]
  },
  {
   "cell_type": "markdown",
   "metadata": {},
   "source": [
    "Codeup students buy, on average, 3 poptart packages (+- 1.5) a day from the snack vending machine. If on monday the machine is restocked with 17 poptart packages, how likely is it that I will be able to buy some poptarts on Friday afternoon?"
   ]
  },
  {
   "cell_type": "code",
   "execution_count": 61,
   "metadata": {},
   "outputs": [],
   "source": [
    "mean = 3\n",
    "standard_deviation = 1.5\n",
    "numbers = np.random.normal(mean, standard_deviation, size=(10000,5))\n",
    "# positive_numbers = numbers > 0"
   ]
  },
  {
   "cell_type": "code",
   "execution_count": 62,
   "metadata": {},
   "outputs": [],
   "source": [
    "# positives = numbers[positive_numbers]"
   ]
  },
  {
   "cell_type": "code",
   "execution_count": 69,
   "metadata": {},
   "outputs": [
    {
     "data": {
      "text/plain": [
       "array([[ 2.27184291, -0.43495758,  1.38669482,  1.7475314 ,  0.76781841],\n",
       "       [ 1.59527874,  3.19130469,  4.18679702,  4.40638805,  2.31396599],\n",
       "       [ 4.10727892,  2.38457994,  5.20059919,  2.80121065,  4.66139943],\n",
       "       ...,\n",
       "       [ 3.23847541,  0.82413889,  2.84561284,  2.37366943,  2.52436041],\n",
       "       [ 2.5677678 ,  2.54062221,  1.53726711,  2.36009497,  2.83995885],\n",
       "       [ 3.72239815,  1.65502264,  4.65594239,  2.81976043,  1.46607207]])"
      ]
     },
     "execution_count": 69,
     "metadata": {},
     "output_type": "execute_result"
    }
   ],
   "source": [
    "numbers"
   ]
  },
  {
   "cell_type": "code",
   "execution_count": 71,
   "metadata": {},
   "outputs": [
    {
     "data": {
      "text/plain": [
       "array([[2.27184291, 0.        , 1.38669482, 1.7475314 , 0.76781841],\n",
       "       [1.59527874, 3.19130469, 4.18679702, 4.40638805, 2.31396599],\n",
       "       [4.10727892, 2.38457994, 5.20059919, 2.80121065, 4.66139943],\n",
       "       ...,\n",
       "       [3.23847541, 0.82413889, 2.84561284, 2.37366943, 2.52436041],\n",
       "       [2.5677678 , 2.54062221, 1.53726711, 2.36009497, 2.83995885],\n",
       "       [3.72239815, 1.65502264, 4.65594239, 2.81976043, 1.46607207]])"
      ]
     },
     "execution_count": 71,
     "metadata": {},
     "output_type": "execute_result"
    }
   ],
   "source": [
    "positives = np.where(numbers < 0,0,numbers)\n",
    "positives"
   ]
  },
  {
   "cell_type": "code",
   "execution_count": 72,
   "metadata": {},
   "outputs": [
    {
     "data": {
      "text/plain": [
       "0.7296"
      ]
     },
     "execution_count": 72,
     "metadata": {},
     "output_type": "execute_result"
    }
   ],
   "source": [
    "(positives.sum(axis=1) < 17).mean()"
   ]
  },
  {
   "cell_type": "markdown",
   "metadata": {},
   "source": [
    "Compare Heights\n",
    "\n",
    "Men have an average height of 178 cm and standard deviation of 8cm.\n",
    "Women have a mean of 170, sd = 6cm.\n",
    "If a man and woman are chosen at random, P(woman taller than man)?"
   ]
  },
  {
   "cell_type": "code",
   "execution_count": null,
   "metadata": {},
   "outputs": [],
   "source": []
  }
 ],
 "metadata": {
  "kernelspec": {
   "display_name": "Python 3",
   "language": "python",
   "name": "python3"
  },
  "language_info": {
   "codemirror_mode": {
    "name": "ipython",
    "version": 3
   },
   "file_extension": ".py",
   "mimetype": "text/x-python",
   "name": "python",
   "nbconvert_exporter": "python",
   "pygments_lexer": "ipython3",
   "version": "3.7.6"
  }
 },
 "nbformat": 4,
 "nbformat_minor": 4
}
