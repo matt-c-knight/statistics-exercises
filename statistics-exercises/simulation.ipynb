{
 "cells": [
  {
   "cell_type": "markdown",
   "metadata": {},
   "source": [
    "How likely is it that you roll doubles when rolling two dice?\n",
    "\n"
   ]
  },
  {
   "cell_type": "code",
   "execution_count": 4,
   "metadata": {},
   "outputs": [],
   "source": [
    "import numpy as np\n",
    "import pandas as pd\n",
    "\n"
   ]
  },
  {
   "cell_type": "code",
   "execution_count": 5,
   "metadata": {},
   "outputs": [
    {
     "data": {
      "text/plain": [
       "array([[1, 6],\n",
       "       [2, 4],\n",
       "       [3, 6],\n",
       "       ...,\n",
       "       [3, 6],\n",
       "       [3, 5],\n",
       "       [6, 5]])"
      ]
     },
     "execution_count": 5,
     "metadata": {},
     "output_type": "execute_result"
    }
   ],
   "source": [
    "n_trials = nrows = 10_000\n",
    "n_dice = ncols = 2\n",
    "\n",
    "rolls = np.random.choice([1, 2, 3, 4, 5, 6], n_trials * n_dice).reshape(nrows, ncols)\n",
    "rolls"
   ]
  },
  {
   "cell_type": "code",
   "execution_count": 9,
   "metadata": {},
   "outputs": [
    {
     "data": {
      "text/plain": [
       "0.1631"
      ]
     },
     "execution_count": 9,
     "metadata": {},
     "output_type": "execute_result"
    }
   ],
   "source": [
    "(pd.DataFrame(rolls)\n",
    " .apply(lambda x: x[0] == x[1], axis=1)\n",
    " .mean())"
   ]
  },
  {
   "cell_type": "code",
   "execution_count": 11,
   "metadata": {},
   "outputs": [
    {
     "data": {
      "text/plain": [
       "0.1631"
      ]
     },
     "execution_count": 11,
     "metadata": {},
     "output_type": "execute_result"
    }
   ],
   "source": [
    "(pd.DataFrame(rolls)\n",
    " .apply(lambda x: x[0] == x[1], axis=1)\n",
    " .mean())"
   ]
  },
  {
   "cell_type": "markdown",
   "metadata": {},
   "source": [
    "If you flip 8 coins, what is the probability of getting exactly 3 heads? What is the probability of getting more than 3 heads?"
   ]
  },
  {
   "cell_type": "code",
   "execution_count": 12,
   "metadata": {},
   "outputs": [
    {
     "data": {
      "text/plain": [
       "array([['tails', 'tails', 'tails', ..., 'heads', 'heads', 'tails'],\n",
       "       ['tails', 'heads', 'tails', ..., 'heads', 'tails', 'heads'],\n",
       "       ['tails', 'tails', 'tails', ..., 'heads', 'tails', 'heads'],\n",
       "       ...,\n",
       "       ['tails', 'tails', 'heads', ..., 'tails', 'tails', 'tails'],\n",
       "       ['tails', 'heads', 'tails', ..., 'tails', 'heads', 'heads'],\n",
       "       ['tails', 'tails', 'heads', ..., 'tails', 'tails', 'heads']],\n",
       "      dtype='<U5')"
      ]
     },
     "execution_count": 12,
     "metadata": {},
     "output_type": "execute_result"
    }
   ],
   "source": [
    "n_trials = nrows = 10_000\n",
    "n_coins = ncols = 8\n",
    "\n",
    "flips = np.random.choice(['heads','tails'], n_trials * n_coins).reshape(nrows, ncols)\n",
    "flips"
   ]
  },
  {
   "cell_type": "code",
   "execution_count": 21,
   "metadata": {
    "scrolled": true
   },
   "outputs": [
    {
     "data": {
      "text/plain": [
       "array([[False, False, False, ...,  True,  True, False],\n",
       "       [False,  True, False, ...,  True, False,  True],\n",
       "       [False, False, False, ...,  True, False,  True],\n",
       "       ...,\n",
       "       [False, False,  True, ..., False, False, False],\n",
       "       [False,  True, False, ..., False,  True,  True],\n",
       "       [False, False,  True, ..., False, False,  True]])"
      ]
     },
     "execution_count": 21,
     "metadata": {},
     "output_type": "execute_result"
    }
   ],
   "source": [
    "flips == 'heads'"
   ]
  },
  {
   "cell_type": "code",
   "execution_count": 41,
   "metadata": {},
   "outputs": [
    {
     "name": "stdout",
     "output_type": "stream",
     "text": [
      "2186\n"
     ]
    },
    {
     "data": {
      "text/plain": [
       "0.2186"
      ]
     },
     "execution_count": 41,
     "metadata": {},
     "output_type": "execute_result"
    }
   ],
   "source": [
    "\n",
    "total = 0\n",
    "for ele in flips:\n",
    "    sum = 0\n",
    "    for i in ele:\n",
    "        if i == 'heads':\n",
    "            sum += 1\n",
    "    if sum == 3:\n",
    "        total += 1\n",
    "print(total)\n",
    "total / len(flips)"
   ]
  },
  {
   "cell_type": "code",
   "execution_count": 42,
   "metadata": {},
   "outputs": [
    {
     "name": "stdout",
     "output_type": "stream",
     "text": [
      "6378\n"
     ]
    },
    {
     "data": {
      "text/plain": [
       "0.6378"
      ]
     },
     "execution_count": 42,
     "metadata": {},
     "output_type": "execute_result"
    }
   ],
   "source": [
    "total = 0\n",
    "for ele in flips:\n",
    "    sum = 0\n",
    "    for i in ele:\n",
    "        if i == 'heads':\n",
    "            sum += 1\n",
    "    if sum > 3:\n",
    "        total += 1\n",
    "print(total)\n",
    "total / len(flips)"
   ]
  },
  {
   "cell_type": "markdown",
   "metadata": {},
   "source": [
    "There are approximitely 3 web development cohorts for every 1 data science cohort at Codeup. Assuming that Codeup randomly selects an alumni to put on a billboard, what are the odds that the two billboards I drive past both have data science students on them?"
   ]
  },
  {
   "cell_type": "code",
   "execution_count": 43,
   "metadata": {},
   "outputs": [
    {
     "data": {
      "text/plain": [
       "array([['ds', 'webdev'],\n",
       "       ['webdev', 'webdev'],\n",
       "       ['webdev', 'webdev'],\n",
       "       ...,\n",
       "       ['webdev', 'webdev'],\n",
       "       ['webdev', 'webdev'],\n",
       "       ['webdev', 'webdev']], dtype='<U6')"
      ]
     },
     "execution_count": 43,
     "metadata": {},
     "output_type": "execute_result"
    }
   ],
   "source": [
    "n_trials = nrows = 10_000\n",
    "n_billboards = ncols = 2\n",
    "\n",
    "billboards = np.random.choice(['webdev','webdev', 'webdev', 'ds'], n_trials * n_billboards).reshape(nrows, ncols)\n",
    "billboards"
   ]
  },
  {
   "cell_type": "code",
   "execution_count": 45,
   "metadata": {},
   "outputs": [
    {
     "data": {
      "text/plain": [
       "0.0659"
      ]
     },
     "execution_count": 45,
     "metadata": {},
     "output_type": "execute_result"
    }
   ],
   "source": [
    "(pd.DataFrame(billboards)\n",
    " .apply(lambda x: x[0] == 'ds' and x[1] == 'ds', axis=1)\n",
    " .mean())"
   ]
  },
  {
   "cell_type": "markdown",
   "metadata": {},
   "source": [
    "Codeup students buy, on average, 3 poptart packages (+- 1.5) a day from the snack vending machine. If on monday the machine is restocked with 17 poptart packages, how likely is it that I will be able to buy some poptarts on Friday afternoon?"
   ]
  },
  {
   "cell_type": "code",
   "execution_count": 61,
   "metadata": {},
   "outputs": [],
   "source": [
    "mean = 3\n",
    "standard_deviation = 1.5\n",
    "numbers = np.random.normal(mean, standard_deviation, size=(10000,5))\n",
    "# positive_numbers = numbers > 0"
   ]
  },
  {
   "cell_type": "code",
   "execution_count": 62,
   "metadata": {},
   "outputs": [],
   "source": [
    "# positives = numbers[positive_numbers]"
   ]
  },
  {
   "cell_type": "code",
   "execution_count": 69,
   "metadata": {},
   "outputs": [
    {
     "data": {
      "text/plain": [
       "array([[ 2.27184291, -0.43495758,  1.38669482,  1.7475314 ,  0.76781841],\n",
       "       [ 1.59527874,  3.19130469,  4.18679702,  4.40638805,  2.31396599],\n",
       "       [ 4.10727892,  2.38457994,  5.20059919,  2.80121065,  4.66139943],\n",
       "       ...,\n",
       "       [ 3.23847541,  0.82413889,  2.84561284,  2.37366943,  2.52436041],\n",
       "       [ 2.5677678 ,  2.54062221,  1.53726711,  2.36009497,  2.83995885],\n",
       "       [ 3.72239815,  1.65502264,  4.65594239,  2.81976043,  1.46607207]])"
      ]
     },
     "execution_count": 69,
     "metadata": {},
     "output_type": "execute_result"
    }
   ],
   "source": [
    "numbers"
   ]
  },
  {
   "cell_type": "code",
   "execution_count": 71,
   "metadata": {},
   "outputs": [
    {
     "data": {
      "text/plain": [
       "array([[2.27184291, 0.        , 1.38669482, 1.7475314 , 0.76781841],\n",
       "       [1.59527874, 3.19130469, 4.18679702, 4.40638805, 2.31396599],\n",
       "       [4.10727892, 2.38457994, 5.20059919, 2.80121065, 4.66139943],\n",
       "       ...,\n",
       "       [3.23847541, 0.82413889, 2.84561284, 2.37366943, 2.52436041],\n",
       "       [2.5677678 , 2.54062221, 1.53726711, 2.36009497, 2.83995885],\n",
       "       [3.72239815, 1.65502264, 4.65594239, 2.81976043, 1.46607207]])"
      ]
     },
     "execution_count": 71,
     "metadata": {},
     "output_type": "execute_result"
    }
   ],
   "source": [
    "positives = np.where(numbers < 0,0,numbers)\n",
    "positives"
   ]
  },
  {
   "cell_type": "code",
   "execution_count": 72,
   "metadata": {},
   "outputs": [
    {
     "data": {
      "text/plain": [
       "0.7296"
      ]
     },
     "execution_count": 72,
     "metadata": {},
     "output_type": "execute_result"
    }
   ],
   "source": [
    "(positives.sum(axis=1) < 17).mean()"
   ]
  },
  {
   "cell_type": "markdown",
   "metadata": {},
   "source": [
    "Compare Heights\n",
    "\n",
    "Men have an average height of 178 cm and standard deviation of 8cm.\n",
    "Women have a mean of 170, sd = 6cm.\n",
    "If a man and woman are chosen at random, P(woman taller than man)?"
   ]
  },
  {
   "cell_type": "code",
   "execution_count": 78,
   "metadata": {},
   "outputs": [],
   "source": [
    "mean = 178\n",
    "standard_deviation = 8\n",
    "man = np.random.normal(mean, standard_deviation, size=(10000,1))"
   ]
  },
  {
   "cell_type": "code",
   "execution_count": 83,
   "metadata": {},
   "outputs": [
    {
     "data": {
      "text/plain": [
       "array([[182.34244602],\n",
       "       [176.02735832],\n",
       "       [174.66095369],\n",
       "       ...,\n",
       "       [187.67022995],\n",
       "       [173.52937475],\n",
       "       [171.80569983]])"
      ]
     },
     "execution_count": 83,
     "metadata": {},
     "output_type": "execute_result"
    }
   ],
   "source": [
    "man"
   ]
  },
  {
   "cell_type": "code",
   "execution_count": 80,
   "metadata": {},
   "outputs": [],
   "source": [
    "mean = 170\n",
    "standard_deviation = 6\n",
    "woman = np.random.normal(mean, standard_deviation, size=(10000,1))"
   ]
  },
  {
   "cell_type": "code",
   "execution_count": 81,
   "metadata": {},
   "outputs": [
    {
     "data": {
      "text/plain": [
       "170.01051695071638"
      ]
     },
     "execution_count": 81,
     "metadata": {},
     "output_type": "execute_result"
    }
   ],
   "source": [
    "woman.mean()"
   ]
  },
  {
   "cell_type": "code",
   "execution_count": 90,
   "metadata": {},
   "outputs": [
    {
     "data": {
      "text/plain": [
       "0.2114"
      ]
     },
     "execution_count": 90,
     "metadata": {},
     "output_type": "execute_result"
    }
   ],
   "source": [
    "(man < woman).mean()"
   ]
  },
  {
   "cell_type": "markdown",
   "metadata": {},
   "source": [
    "When installing anaconda on a student's computer, there's a 1 in 250 chance that the download is corrupted and the installation fails. What are the odds that after having 50 students download anaconda, no one has an installation issue? 100 students?\n",
    "\n",
    "What is the probability that we observe an installation issue within the first 150 students that download anaconda?\n",
    "\n",
    "How likely is it that 450 students all download anaconda without an issue?"
   ]
  },
  {
   "cell_type": "code",
   "execution_count": 100,
   "metadata": {},
   "outputs": [],
   "source": [
    "p_corrupted = .004\n",
    "n_times = n_cols = 50\n",
    "n_simulated = nrows = 10**5"
   ]
  },
  {
   "cell_type": "code",
   "execution_count": 101,
   "metadata": {},
   "outputs": [
    {
     "data": {
      "text/plain": [
       "array([[0.51232626, 0.85750167, 0.70616626, ..., 0.30650192, 0.54873434,\n",
       "        0.59735783],\n",
       "       [0.24316835, 0.22155582, 0.01287757, ..., 0.29255841, 0.04521121,\n",
       "        0.31505407],\n",
       "       [0.37293862, 0.53576486, 0.75802573, ..., 0.25928209, 0.70703625,\n",
       "        0.83109398],\n",
       "       ...,\n",
       "       [0.52019186, 0.72949599, 0.39065336, ..., 0.32659935, 0.02788166,\n",
       "        0.39549804],\n",
       "       [0.69400458, 0.89866464, 0.45260256, ..., 0.61861418, 0.45403808,\n",
       "        0.70476743],\n",
       "       [0.46679457, 0.81281401, 0.46383054, ..., 0.60248368, 0.94603624,\n",
       "        0.5630641 ]])"
      ]
     },
     "execution_count": 101,
     "metadata": {},
     "output_type": "execute_result"
    }
   ],
   "source": [
    "data = np.random.random((nrows, n_cols))\n",
    "data"
   ]
  },
  {
   "cell_type": "code",
   "execution_count": 102,
   "metadata": {},
   "outputs": [
    {
     "data": {
      "text/plain": [
       "array([[False, False, False, ..., False, False, False],\n",
       "       [False, False, False, ..., False, False, False],\n",
       "       [False, False, False, ..., False, False, False],\n",
       "       ...,\n",
       "       [False, False, False, ..., False, False, False],\n",
       "       [False, False, False, ..., False, False, False],\n",
       "       [False, False, False, ..., False, False, False]])"
      ]
     },
     "execution_count": 102,
     "metadata": {},
     "output_type": "execute_result"
    }
   ],
   "source": [
    "corrupted = data < p_corrupted\n",
    "corrupted"
   ]
  },
  {
   "cell_type": "code",
   "execution_count": 103,
   "metadata": {},
   "outputs": [
    {
     "data": {
      "text/plain": [
       "0.18192"
      ]
     },
     "execution_count": 103,
     "metadata": {},
     "output_type": "execute_result"
    }
   ],
   "source": [
    "(corrupted.sum(axis=1) >= 1).mean()"
   ]
  },
  {
   "cell_type": "code",
   "execution_count": 104,
   "metadata": {},
   "outputs": [
    {
     "data": {
      "text/plain": [
       "0.81808"
      ]
     },
     "execution_count": 104,
     "metadata": {},
     "output_type": "execute_result"
    }
   ],
   "source": [
    "(corrupted.sum(axis=1) == 0).mean()"
   ]
  },
  {
   "cell_type": "code",
   "execution_count": 116,
   "metadata": {},
   "outputs": [],
   "source": [
    "p_corrupted = .004\n",
    "n_times = n_cols = 150\n",
    "n_simulated = nrows = 10**5"
   ]
  },
  {
   "cell_type": "code",
   "execution_count": 117,
   "metadata": {},
   "outputs": [],
   "source": [
    "data = np.random.random((nrows, n_cols))\n",
    "corrupted = data < p_corrupted"
   ]
  },
  {
   "cell_type": "code",
   "execution_count": 118,
   "metadata": {},
   "outputs": [
    {
     "data": {
      "text/plain": [
       "0.4538"
      ]
     },
     "execution_count": 118,
     "metadata": {},
     "output_type": "execute_result"
    }
   ],
   "source": [
    "(corrupted.sum(axis=1) >= 1).mean()"
   ]
  },
  {
   "cell_type": "code",
   "execution_count": 112,
   "metadata": {},
   "outputs": [],
   "source": [
    "p_corrupted = .004\n",
    "n_times = n_cols = 450\n",
    "n_simulated = nrows = 10**5"
   ]
  },
  {
   "cell_type": "code",
   "execution_count": 113,
   "metadata": {},
   "outputs": [],
   "source": [
    "data = np.random.random((nrows, n_cols))\n",
    "corrupted = data < p_corrupted"
   ]
  },
  {
   "cell_type": "code",
   "execution_count": 115,
   "metadata": {},
   "outputs": [
    {
     "data": {
      "text/plain": [
       "0.16367"
      ]
     },
     "execution_count": 115,
     "metadata": {},
     "output_type": "execute_result"
    }
   ],
   "source": [
    "(corrupted.sum(axis=1) == 0).mean()"
   ]
  },
  {
   "cell_type": "markdown",
   "metadata": {},
   "source": [
    "There's a 70% chance on any given day that there will be at least one food truck at Travis Park. However, you haven't seen a food truck there in 3 days. How unlikely is this?\n",
    "\n",
    "How likely is it that a food truck will show up sometime this week?"
   ]
  },
  {
   "cell_type": "code",
   "execution_count": 119,
   "metadata": {},
   "outputs": [],
   "source": [
    "p_truck = .70\n",
    "n_day = n_cols = 3\n",
    "n_simulated = nrows = 10**5"
   ]
  },
  {
   "cell_type": "code",
   "execution_count": 120,
   "metadata": {},
   "outputs": [],
   "source": [
    "data = np.random.random((nrows, n_cols))\n",
    "result = data < p_truck"
   ]
  },
  {
   "cell_type": "code",
   "execution_count": 121,
   "metadata": {},
   "outputs": [
    {
     "data": {
      "text/plain": [
       "0.02727"
      ]
     },
     "execution_count": 121,
     "metadata": {},
     "output_type": "execute_result"
    }
   ],
   "source": [
    "(result.sum(axis=1) == 0).mean()"
   ]
  },
  {
   "cell_type": "code",
   "execution_count": 122,
   "metadata": {},
   "outputs": [],
   "source": [
    "p_truck = .70\n",
    "n_day = n_cols = 7\n",
    "n_simulated = nrows = 10**5"
   ]
  },
  {
   "cell_type": "code",
   "execution_count": 123,
   "metadata": {},
   "outputs": [],
   "source": [
    "data = np.random.random((nrows, n_cols))\n",
    "result = data < p_truck"
   ]
  },
  {
   "cell_type": "code",
   "execution_count": 124,
   "metadata": {},
   "outputs": [
    {
     "data": {
      "text/plain": [
       "0.99981"
      ]
     },
     "execution_count": 124,
     "metadata": {},
     "output_type": "execute_result"
    }
   ],
   "source": [
    "(result.sum(axis=1) >= 1).mean()"
   ]
  },
  {
   "cell_type": "markdown",
   "metadata": {},
   "source": [
    "If 23 people are in the same room, what are the odds that two of them share a birthday? What if it's 20 people? 40?"
   ]
  },
  {
   "cell_type": "code",
   "execution_count": 127,
   "metadata": {},
   "outputs": [
    {
     "data": {
      "text/plain": [
       "array([[  9, 207, 275, ..., 231, 210, 216],\n",
       "       [308, 359, 106, ..., 292, 255,  62],\n",
       "       [189, 128,  32, ..., 100, 263, 138],\n",
       "       ...,\n",
       "       [ 42, 252, 358, ..., 332, 145,  79],\n",
       "       [220, 110, 128, ..., 106,  15, 119],\n",
       "       [189, 234, 213, ..., 169, 140,  46]])"
      ]
     },
     "execution_count": 127,
     "metadata": {},
     "output_type": "execute_result"
    }
   ],
   "source": [
    "n_trials = nrows = 10_000\n",
    "n_people = ncols = 23\n",
    "\n",
    "bday = np.random.choice(range(1,366), n_trials * n_people).reshape(nrows, ncols)\n",
    "bday"
   ]
  },
  {
   "cell_type": "code",
   "execution_count": 132,
   "metadata": {},
   "outputs": [],
   "source": [
    "def prob_checker(x):\n",
    "    bday_check = set(x)\n",
    "    if len(x) != len(bday_check):\n",
    "        return True\n",
    "        "
   ]
  },
  {
   "cell_type": "code",
   "execution_count": 135,
   "metadata": {},
   "outputs": [
    {
     "data": {
      "text/plain": [
       "0.5123"
      ]
     },
     "execution_count": 135,
     "metadata": {},
     "output_type": "execute_result"
    }
   ],
   "source": [
    "(pd.DataFrame(bday)\n",
    " .apply(lambda x: len(x) != len(set(x)), axis=1)\n",
    " .mean())"
   ]
  },
  {
   "cell_type": "code",
   "execution_count": 136,
   "metadata": {},
   "outputs": [
    {
     "data": {
      "text/plain": [
       "0.5123"
      ]
     },
     "execution_count": 136,
     "metadata": {},
     "output_type": "execute_result"
    }
   ],
   "source": [
    "(pd.DataFrame(bday)\n",
    " .apply(lambda x: len(x) != len(set(x)), axis=1)\n",
    " .mean())"
   ]
  },
  {
   "cell_type": "code",
   "execution_count": 137,
   "metadata": {},
   "outputs": [
    {
     "data": {
      "text/plain": [
       "array([[306, 350, 105, ..., 125,   1, 200],\n",
       "       [145, 291, 269, ...,  25, 132,  95],\n",
       "       [193, 170,  19, ..., 133,  58,  88],\n",
       "       ...,\n",
       "       [ 56,  32,  29, ..., 326, 352,   9],\n",
       "       [229, 250, 287, ...,  31,  77, 268],\n",
       "       [331, 339, 162, ..., 205,  84, 365]])"
      ]
     },
     "execution_count": 137,
     "metadata": {},
     "output_type": "execute_result"
    }
   ],
   "source": [
    "n_trials = nrows = 10_000\n",
    "n_people = ncols = 20\n",
    "\n",
    "bday = np.random.choice(range(1,366), n_trials * n_people).reshape(nrows, ncols)\n",
    "bday"
   ]
  },
  {
   "cell_type": "code",
   "execution_count": 138,
   "metadata": {},
   "outputs": [
    {
     "data": {
      "text/plain": [
       "0.4069"
      ]
     },
     "execution_count": 138,
     "metadata": {},
     "output_type": "execute_result"
    }
   ],
   "source": [
    "(pd.DataFrame(bday)\n",
    " .apply(lambda x: len(x) != len(set(x)), axis=1)\n",
    " .mean())"
   ]
  },
  {
   "cell_type": "code",
   "execution_count": null,
   "metadata": {},
   "outputs": [],
   "source": []
  }
 ],
 "metadata": {
  "kernelspec": {
   "display_name": "Python 3",
   "language": "python",
   "name": "python3"
  },
  "language_info": {
   "codemirror_mode": {
    "name": "ipython",
    "version": 3
   },
   "file_extension": ".py",
   "mimetype": "text/x-python",
   "name": "python",
   "nbconvert_exporter": "python",
   "pygments_lexer": "ipython3",
   "version": "3.7.6"
  }
 },
 "nbformat": 4,
 "nbformat_minor": 4
}
